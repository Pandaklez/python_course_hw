{
 "cells": [
  {
   "cell_type": "markdown",
   "metadata": {},
   "source": [
    "**Задание**: Показать на эксперименте, что верхняя оценка на вероятность коллизии композиционного хеша для строк выполняется O(1/m + L/p). Подробнее в материалах лекции.\n",
    "\n",
    "m - количество элементов в хэш-таблице. L - длина большей из двух строк. p - big prime number.\n",
    "\n",
    "Построить графики зависимости FPR (false positive rate) от длинны строк L и простого модуля p.  \n",
    "Эксперименты провести для L = np.linspace(10, 100, 11) и 10-ти простых чисел p из интервала (100, 1000).  \n",
    "Для каждой точки выполнить 10 экспериментов, на графике отобразить стандартное отклонение оценки в каждой точке."
   ]
  },
  {
   "cell_type": "markdown",
   "metadata": {},
   "source": [
    "Немного повторения из лекции:  \n",
    "Family of hash functions $H= \\{\\; h: X \\rightarrow [0, m-1] \\; \\}$\n",
    "\n",
    "Probability of collision for 2 strings with $L = max(|S_1|, |S_2|)$  \n",
    "$Pr[h(S_1) = h(S_2) \\; | \\; s1 \\neq s2] \\leq \\frac 1 m + \\frac L p $"
   ]
  },
  {
   "cell_type": "code",
   "execution_count": 1,
   "metadata": {},
   "outputs": [],
   "source": [
    "import numpy as np\n",
    "import matplotlib.pyplot as plt\n",
    "import seaborn as sns\n",
    "import random\n",
    "import string\n",
    "%matplotlib inline"
   ]
  },
  {
   "cell_type": "code",
   "execution_count": 2,
   "metadata": {},
   "outputs": [
    {
     "name": "stdout",
     "output_type": "stream",
     "text": [
      "[ 10.  19.  28.  37.  46.  55.  64.  73.  82.  91. 100.]\n"
     ]
    }
   ],
   "source": [
    "# для каждой комбинации из точек в L и в P провести 10 экспериментов и посчитать стандартное отклонение\n",
    "L = np.linspace(10, 100, 11)\n",
    "P = np.ndarray((10,), buffer=np.array([151, 293, 383, 449, 503, 617, 743, 797, 881, 929]), dtype=int)\n",
    "print(L)"
   ]
  },
  {
   "cell_type": "code",
   "execution_count": 63,
   "metadata": {},
   "outputs": [
    {
     "data": {
      "text/plain": [
       "1000"
      ]
     },
     "execution_count": 63,
     "metadata": {},
     "output_type": "execute_result"
    }
   ],
   "source": [
    "# generate strings with lengths from L\n",
    "\n",
    "def generate_str(length, seed):\n",
    "    random.seed(seed)  # ставим seed, чтобы в разных экспериментах были разные строки\n",
    "    strings_add = []\n",
    "    while len(strings_add) < 1000:  # генерируем 1000 строк в каждом эксперименте\n",
    "        strings_add.append(''.join(random.choices(string.ascii_uppercase + string.ascii_lowercase, k=length)))\n",
    "        strings_add = list(set(strings_add))\n",
    "    return strings_add\n",
    "\n",
    "len(generate_str(3, 5))"
   ]
  },
  {
   "cell_type": "code",
   "execution_count": 17,
   "metadata": {},
   "outputs": [],
   "source": [
    "def add_check_collision(s, p, table):\n",
    "    h = hash_string(s, p)\n",
    "    if h not in table:\n",
    "        table[h] = s\n",
    "        return False\n",
    "    else:\n",
    "        return True\n",
    "\n",
    "def hash_string(s, p):\n",
    "    h = 0\n",
    "    # a = random.randint(1, len(s))\n",
    "    for i, st in enumerate(s):\n",
    "        h += ord(st) * (i + 1)\n",
    "    return h % p\n",
    "\n",
    "def check(s, p, hash_table):\n",
    "    h = hash_string(s, p)\n",
    "    if h in hash_table:\n",
    "        return True\n",
    "    else:\n",
    "        return False"
   ]
  },
  {
   "cell_type": "code",
   "execution_count": 51,
   "metadata": {},
   "outputs": [],
   "source": [
    "def experiment(length, p, seed):\n",
    "    hash_table = {}\n",
    "    collision = 0\n",
    "    strings = generate_str(int(length), seed)  # 1000 strings\n",
    "    for item in strings:\n",
    "        h = hash_string(item, p)\n",
    "        if h not in hash_table:\n",
    "            hash_table[h] = item\n",
    "        else:\n",
    "            hash_table[h] = item\n",
    "            collision += 1\n",
    "    fpr = (2 * collision) / (1000 *  (1000-1))\n",
    "    return fpr, len(hash_table)"
   ]
  },
  {
   "cell_type": "code",
   "execution_count": 52,
   "metadata": {},
   "outputs": [
    {
     "name": "stdout",
     "output_type": "stream",
     "text": [
      "[0.013015827922224919, 0.023236078924795824, 0.033442528969539795, 0.04367524069481569, 0.05389327022668226, 0.06410010607992303, 0.07431294242056694, 0.08455243412044783, 0.09474233331869232, 0.10497342499749576, 0.11519956187323624]\n"
     ]
    }
   ],
   "source": [
    "# зависимост FPR от длины строки\n",
    "means = []\n",
    "stds = []\n",
    "upper_bounds = []\n",
    "for length in L:\n",
    "    p = 881  # зафиксируем значение p\n",
    "    k = 1\n",
    "    fp_rates, upper = [], []\n",
    "    seed = [1212, 15, 17, 300, 200, 551, 24, 412, 198, 7008, 693]\n",
    "    while k <= 10:\n",
    "        fp_rate, m = experiment(length, p, seed[k])\n",
    "        fp_rates.append(fp_rate)\n",
    "        upper_bound = 1/m + length/p\n",
    "        upper.append(upper_bound)\n",
    "        k += 1\n",
    "    stds.append(np.std(fp_rates))\n",
    "    means.append(np.mean(fp_rates))\n",
    "    upper_bounds.append(np.mean(upper))\n",
    "print(upper_bounds)"
   ]
  },
  {
   "cell_type": "code",
   "execution_count": 57,
   "metadata": {},
   "outputs": [],
   "source": [
    "# Check if верхняя оценка на вероятность коллизии композиционного хеша для строк выполняется O(1/m + L/p)\n",
    "for i, el in enumerate(upper_bounds):\n",
    "    if el < means[i]:\n",
    "        print(False)"
   ]
  },
  {
   "cell_type": "markdown",
   "metadata": {},
   "source": [
    "Значит, на всех 11 значениях длины строки выполняется."
   ]
  },
  {
   "cell_type": "code",
   "execution_count": 58,
   "metadata": {},
   "outputs": [
    {
     "data": {
      "image/png": "[encoded data removed]",
      "text/plain": [
       "<Figure size 432x288 with 1 Axes>"
      ]
     },
     "metadata": {
      "needs_background": "light"
     },
     "output_type": "display_data"
    }
   ],
   "source": [
    "# место для графиков\n",
    "plt.errorbar(L, means, stds, fmt='-o', color='black', ecolor='lightgray', elinewidth=3, label='mean FPR')\n",
    "plt.legend()\n",
    "plt.show()"
   ]
  },
  {
   "cell_type": "markdown",
   "metadata": {},
   "source": [
    "Количество коллизий растет при увеличении длины строки и этот рост не быстрее линейного."
   ]
  },
  {
   "cell_type": "code",
   "execution_count": 59,
   "metadata": {},
   "outputs": [
    {
     "name": "stdout",
     "output_type": "stream",
     "text": [
      "[0.07285651214128037, 0.037661210430353566, 0.028904354781963782, 0.02477058262530268, 0.022180396407140316, 0.01821934753185111, 0.015275487022911377, 0.014289231028063485, 0.013015827922224919, 0.012393539774731916]\n"
     ]
    }
   ],
   "source": [
    "# зависимост FPR от p\n",
    "means = []\n",
    "stds = []\n",
    "upper_bounds = []\n",
    "for p in P:\n",
    "    length = 10  # зафиксируем значение length\n",
    "    k = 1\n",
    "    fp_rates, upper = [], []\n",
    "    seed = [1212, 15, 17, 300, 200, 551, 24, 412, 198, 7008, 693]\n",
    "    while k <= 10:\n",
    "        fp_rate, m = experiment(length, p, seed[k])\n",
    "        fp_rates.append(fp_rate)\n",
    "        upper_bound = 1/m + length/p\n",
    "        upper.append(upper_bound)\n",
    "        k += 1\n",
    "    stds.append(np.std(fp_rates))\n",
    "    means.append(np.mean(fp_rates))\n",
    "    upper_bounds.append(np.mean(upper))\n",
    "print(upper_bounds)"
   ]
  },
  {
   "cell_type": "code",
   "execution_count": 61,
   "metadata": {},
   "outputs": [
    {
     "name": "stdout",
     "output_type": "stream",
     "text": [
      "[8.008008008007772e-07, 6.381332312516238e-06, 1.0572769510719413e-05, 1.375566237141293e-05, 9.907381807134052e-06, 1.0496678061195864e-05, 1.5066977154936368e-05, 1.557063411839902e-05, 1.7862749972928415e-05, 1.793887635183006e-05]\n"
     ]
    }
   ],
   "source": [
    "print(stds)"
   ]
  },
  {
   "cell_type": "code",
   "execution_count": 60,
   "metadata": {},
   "outputs": [
    {
     "data": {
      "image/png": "[encoded data removed]",
      "text/plain": [
       "<Figure size 432x288 with 1 Axes>"
      ]
     },
     "metadata": {
      "needs_background": "light"
     },
     "output_type": "display_data"
    }
   ],
   "source": [
    "# место для графиков\n",
    "plt.errorbar(P, means, stds, fmt='-o', color='black', ecolor='lightgray', elinewidth=3, label='mean FPR')\n",
    "plt.legend()\n",
    "plt.show()"
   ]
  },
  {
   "cell_type": "markdown",
   "metadata": {},
   "source": [
    "FPR зависит от значения большого просто числа, используемого в хэш-функции. Чем больше p, тем меньше FPR (по гиперболе)."
   ]
  },
  {
   "cell_type": "code",
   "execution_count": 62,
   "metadata": {},
   "outputs": [],
   "source": [
    "# Check if верхняя оценка на вероятность коллизии композиционного хеша для строк выполняется O(1/m + L/p)\n",
    "for i, el in enumerate(upper_bounds):\n",
    "    if el < means[i]:\n",
    "        print(False)"
   ]
  },
  {
   "cell_type": "markdown",
   "metadata": {},
   "source": [
    "Для всех значений большого простого числа выполняется O(1/m + L/p)"
   ]
  }
 ],
 "metadata": {
  "kernelspec": {
   "display_name": "Python 3",
   "language": "python",
   "name": "python3"
  },
  "language_info": {
   "codemirror_mode": {
    "name": "ipython",
    "version": 3
   },
   "file_extension": ".py",
   "mimetype": "text/x-python",
   "name": "python",
   "nbconvert_exporter": "python",
   "pygments_lexer": "ipython3",
   "version": "3.7.1"
  }
 },
 "nbformat": 4,
 "nbformat_minor": 2
}
