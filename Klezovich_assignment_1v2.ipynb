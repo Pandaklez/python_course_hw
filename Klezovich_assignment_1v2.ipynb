{
 "cells": [
  {
   "cell_type": "markdown",
   "metadata": {},
   "source": [
    "**Задание**: Показать на эксперименте, что верхняя оценка на вероятность коллизии композиционного хеша для строк выполняется O(1/m + L/p). Подробнее в материалах лекции.\n",
    "\n",
    "m - количество элементов в хэш-таблице. L - длина большей из двух строк. p - big prime number.\n",
    "\n",
    "Построить графики зависимости FPR (false positive rate) от длинны строк L и простого модуля p.  \n",
    "Эксперименты провести для L = np.linspace(10, 100, 11) и 10-ти простых чисел p из интервала (100, 1000).  \n",
    "Для каждой точки выполнить 10 экспериментов, на графике отобразить стандартное отклонение оценки в каждой точке."
   ]
  },
  {
   "cell_type": "markdown",
   "metadata": {},
   "source": [
    "Немного повторения из лекции:  \n",
    "Family of hash functions $H= \\{\\; h: X \\rightarrow [0, m-1] \\; \\}$\n",
    "\n",
    "Probability of collision for 2 strings with $L = max(|S_1|, |S_2|)$  \n",
    "$Pr[h(S_1) = h(S_2) \\; | \\; s1 \\neq s2] \\leq \\frac 1 m + \\frac L p $"
   ]
  },
  {
   "cell_type": "code",
   "execution_count": 1,
   "metadata": {},
   "outputs": [],
   "source": [
    "import numpy as np\n",
    "import matplotlib.pyplot as plt\n",
    "import seaborn as sns\n",
    "import random\n",
    "import string\n",
    "%matplotlib inline"
   ]
  },
  {
   "cell_type": "code",
   "execution_count": 2,
   "metadata": {},
   "outputs": [
    {
     "name": "stdout",
     "output_type": "stream",
     "text": [
      "[ 10.  19.  28.  37.  46.  55.  64.  73.  82.  91. 100.]\n"
     ]
    }
   ],
   "source": [
    "# для каждой комбинации из точек в L и в P провести 10 экспериментов и посчитать стандартное отклонение\n",
    "L = np.linspace(10, 100, 11)\n",
    "P = np.ndarray((10,), buffer=np.array([151, 293, 383, 449, 503, 617, 743, 797, 881, 929]), dtype=int)\n",
    "print(L)"
   ]
  },
  {
   "cell_type": "code",
   "execution_count": 3,
   "metadata": {},
   "outputs": [
    {
     "data": {
      "text/plain": [
       "['kyA', 'qMQ', 'FRG', 'VNL', 'esR', 'QBA', 'ArQ', 'gVO', 'ZtG', 'juA']"
      ]
     },
     "execution_count": 3,
     "metadata": {},
     "output_type": "execute_result"
    }
   ],
   "source": [
    "# generate strings with lengths from L\n",
    "\n",
    "def generate_str(length):\n",
    "    strings_add = []\n",
    "    while len(strings_add) < 10:\n",
    "        strings_add.append(''.join(random.choices(string.ascii_uppercase + string.ascii_lowercase, k=length)))\n",
    "        strings_add = list(set(strings_add))\n",
    "    return strings_add\n",
    "\n",
    "generate_str(3)"
   ]
  },
  {
   "cell_type": "code",
   "execution_count": 4,
   "metadata": {},
   "outputs": [],
   "source": [
    "def add_check_collision(s, p, table):\n",
    "    h = hash_string(s, p)\n",
    "    if h not in table:\n",
    "        table[h] = s\n",
    "        return False\n",
    "    else:\n",
    "        return True\n",
    "\n",
    "def hash_string(s, p):\n",
    "    h = 0\n",
    "    # a = random.randint(1, len(s))\n",
    "    for i, st in enumerate(s):\n",
    "        h = h * 31 + ord(st) * (i + 1)\n",
    "    return h % p\n",
    "\n",
    "def check(s, p, hash_table):\n",
    "    h = hash_string(s, p)\n",
    "    if h in hash_table:\n",
    "        return True\n",
    "    else:\n",
    "        return False"
   ]
  },
  {
   "cell_type": "code",
   "execution_count": 5,
   "metadata": {},
   "outputs": [
    {
     "name": "stdout",
     "output_type": "stream",
     "text": [
      "Fail!\n"
     ]
    }
   ],
   "source": [
    "# True in {experiments} if there is a collision\n",
    "for length in L:\n",
    "    for p in P:\n",
    "        experiments = {}\n",
    "        k = 1\n",
    "        while k <= 10:\n",
    "            hash_table = {}\n",
    "            strings = generate_str(int(length))\n",
    "            for item in strings:\n",
    "                if add_check_collision(item, p, hash_table) is True:\n",
    "                    experiments[k] = True\n",
    "                else:\n",
    "                    experiments[k] = False\n",
    "                    \n",
    "            # test\n",
    "            tp, fp, tn, fn = 0, 0, 0, 0\n",
    "            for i in range(1000):\n",
    "                test_string = ''.join(random.choices(string.ascii_lowercase, k=10))\n",
    "                res = check(test_string, p, hash_table)  # доставать значения из хеш таблицы\n",
    "                if res is True:\n",
    "                    if test_string in strings:\n",
    "                        tp += 1\n",
    "                    else:\n",
    "                        fp += 1\n",
    "                else:\n",
    "                    if test_string in strings:\n",
    "                        fn += 1\n",
    "                    else:\n",
    "                        tn += 1\n",
    "            fp_rate = fp / (fp + tn)\n",
    "            #print(fp_rate)\n",
    "            \n",
    "            k += 1\n",
    "        collision_proba = 1/len(hash_table) + length/p\n",
    "        collision = 0\n",
    "        for val in list(experiments.values()):\n",
    "            if val is True:\n",
    "                collision += 1\n",
    "        real_collision = collision/10\n",
    "        #print(collision_proba, real_collision)\n",
    "        # Проверяем нашу теорему. Сколько раз она не выполнится из 110 экспериментов\n",
    "        if not real_collision <= collision_proba:\n",
    "            print(\"Fail!\")  # От 0 до 3 раз (из 110) фейлится \n",
    "            "
   ]
  },
  {
   "cell_type": "code",
   "execution_count": 31,
   "metadata": {},
   "outputs": [],
   "source": [
    "# график зависимости FPR от длины строки\n",
    "fps = []\n",
    "for length in L:\n",
    "    p = 881  # зафиксируем значение p\n",
    "    experiments = {}\n",
    "    k = 1\n",
    "    fp_rates = []\n",
    "    while k <= 1000:  # на 10 экспериментах было ничего не понятно\n",
    "        hash_table = {}\n",
    "        strings = generate_str(int(length))\n",
    "        for item in strings:\n",
    "            if add_check_collision(item, p, hash_table) is True:\n",
    "                experiments[k] = True\n",
    "            else:\n",
    "                experiments[k] = False\n",
    "                    \n",
    "        # test\n",
    "        tp, fp, tn, fn = 0, 0, 0, 0\n",
    "        for i in range(1000):\n",
    "            test_string = ''.join(random.choices(string.ascii_lowercase, k=12))\n",
    "            res = check(test_string, p, hash_table)  # доставать значения из хеш таблицы\n",
    "            if res is True:\n",
    "                if test_string in strings:\n",
    "                    tp += 1\n",
    "                else:\n",
    "                    fp += 1\n",
    "            else:\n",
    "                if test_string in strings:\n",
    "                    fn += 1\n",
    "                else:\n",
    "                    tn += 1\n",
    "        fp_rate = fp / (fp + tn)\n",
    "        fp_rates.append(fp_rate)\n",
    "        k += 1\n",
    "    fp = sum(fp_rates)/k\n",
    "    fps.append(fp)"
   ]
  },
  {
   "cell_type": "code",
   "execution_count": 32,
   "metadata": {},
   "outputs": [
    {
     "data": {
      "image/png": "[encoded data removed]",
      "text/plain": [
       "<Figure size 432x288 with 1 Axes>"
      ]
     },
     "metadata": {
      "needs_background": "light"
     },
     "output_type": "display_data"
    }
   ],
   "source": [
    "# место для графиков\n",
    "plt.plot(L, fps, label='fp rates')\n",
    "plt.legend()\n",
    "plt.show()"
   ]
  },
  {
   "cell_type": "code",
   "execution_count": 33,
   "metadata": {},
   "outputs": [],
   "source": [
    "# график зависимости FPR от p\n",
    "fps = []\n",
    "for p in P:\n",
    "    length = 10  # зафиксируем значение length\n",
    "    experiments = {}\n",
    "    k = 1\n",
    "    fp_rates = []\n",
    "    while k <= 1000:  # на 10 экспериментах было ничего не понятно\n",
    "        hash_table = {}\n",
    "        strings = generate_str(int(length))\n",
    "        for item in strings:\n",
    "            if add_check_collision(item, p, hash_table) is True:\n",
    "                experiments[k] = True\n",
    "            else:\n",
    "                experiments[k] = False\n",
    "                    \n",
    "        # test\n",
    "        tp, fp, tn, fn = 0, 0, 0, 0\n",
    "        for i in range(1000):\n",
    "            test_string = ''.join(random.choices(string.ascii_lowercase, k=12))\n",
    "            res = check(test_string, p, hash_table)  # доставать значения из хеш таблицы\n",
    "            if res is True:\n",
    "                if test_string in strings:\n",
    "                    tp += 1\n",
    "                else:\n",
    "                    fp += 1\n",
    "            else:\n",
    "                if test_string in strings:\n",
    "                    fn += 1\n",
    "                else:\n",
    "                    tn += 1\n",
    "        fp_rate = fp / (fp + tn)\n",
    "        fp_rates.append(fp_rate)\n",
    "        k += 1\n",
    "    fp = sum(fp_rates)/k\n",
    "    fps.append(fp)"
   ]
  },
  {
   "cell_type": "code",
   "execution_count": 34,
   "metadata": {},
   "outputs": [
    {
     "data": {
      "image/png": "[encoded data removed]",
      "text/plain": [
       "<Figure size 432x288 with 1 Axes>"
      ]
     },
     "metadata": {
      "needs_background": "light"
     },
     "output_type": "display_data"
    }
   ],
   "source": [
    "# место для графиков\n",
    "plt.plot(P, fps, label='fp rates')\n",
    "plt.legend()\n",
    "plt.show()"
   ]
  },
  {
   "cell_type": "markdown",
   "metadata": {},
   "source": [
    "По всей видимости FPR не зависит от длины строк, но зависит от значения большого просто числа, используемого в хэш-функции. Чем больше p, тем меньше FPR."
   ]
  }
 ],
 "metadata": {
  "kernelspec": {
   "display_name": "Python 3",
   "language": "python",
   "name": "python3"
  },
  "language_info": {
   "codemirror_mode": {
    "name": "ipython",
    "version": 3
   },
   "file_extension": ".py",
   "mimetype": "text/x-python",
   "name": "python",
   "nbconvert_exporter": "python",
   "pygments_lexer": "ipython3",
   "version": "3.7.1"
  }
 },
 "nbformat": 4,
 "nbformat_minor": 2
}
