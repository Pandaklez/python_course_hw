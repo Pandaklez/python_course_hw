{
 "cells": [
  {
   "cell_type": "markdown",
   "metadata": {},
   "source": [
    "# Assignment 5\n",
    "\n",
    "Explore embeddings and CNN\n",
    "\n",
    "Using tweeter dataset ( https://www.kaggle.com/utathya/sentiment-analysis-of-imdb-reviews/data) and already existing splitting on train/test sets, develop a model for sentiment analysis.  \n",
    "Your quality metric is crossentropy (`sklearn.metrics.log_loss`, `torch.nn.CrossEntropy`)  \n",
    "\n",
    "Your model should be based on CNN and written in pytorch `torch.nn.Conv1d`.\n",
    "\n",
    "Explore 3 ways, which of them has better perfomance on test set?:\n",
    "1. Using pretrained word embeddings with frozen weights. `torch.nn.Embedding.from_pretrained(embed_matrix, frozen=True)`.\n",
    "You can download any pretrained embeddings you like.\n",
    "2. Train embeddings yourself, initializing from pretrained weights. `torch.nn.Embedding.from_pretrained(embed_matrix, frozen=False)`\n",
    "3. Train embeddings yourself with random initialization `torch.nn.init.uniform_(nn.Embeddings.weights)`\n",
    "\n",
    "Experiment with model arhitecture (as bonus):\n",
    "1. activation functions RELU, ELU, etc `torch.nn.functional.relu, torch.nn.functional.elu`  \n",
    "1. Stack layers\n",
    "1. max or average pooling (`torch.nn.functional.max_pool1d, torch.nn.functional.avg_pool1d`)\n",
    "1. Dropout\n",
    "\n",
    "\n",
    "Other requirements:\n",
    "1. Your training routine should use any learning scheduler (torch.nn.optim.lr_scheduler).  \n",
    "Plot current learning rate against number of epochs, e.g. `tt.optim.Adam.param_groups[0]['lr']`.  \n",
    "\n",
    "1. Your training routine should use early stopping on validation dataset\n",
    "Use hold out validation scheme in your experiments.\n",
    "\n",
    "1. You should use torchtext for parsing \n",
    "\n",
    "**Note**:\n",
    "This assignment has no baseline. Instead, **validation curves** for explored architectures are expected.  \n",
    "Validation curve is plot of model test score against model hyperparameter value.  \n",
    "example (https://scikit-learn.org/stable/auto_examples/model_selection/plot_validation_curve.html) . \n",
    "Though, using `sklearn.model_selection.validation_curve` is not necessary.  \n",
    "\n",
    "\n",
    "\n",
    "\n"
   ]
  },
  {
   "cell_type": "code",
   "execution_count": 1,
   "metadata": {},
   "outputs": [
    {
     "name": "stderr",
     "output_type": "stream",
     "text": [
      "[nltk_data] Downloading package stopwords to\n",
      "[nltk_data]     /home/m.ananyeva/nltk_data...\n",
      "[nltk_data]   Package stopwords is already up-to-date!\n"
     ]
    }
   ],
   "source": [
    "import os\n",
    "os.environ[\"CUDA_VISIBLE_DEVICES\"] = \"0\"\n",
    "\n",
    "import pandas as pd\n",
    "import numpy as np\n",
    "\n",
    "import torch\n",
    "from torch import nn, optim\n",
    "from torch.nn import Embedding, ModuleList, Linear, Conv1d, Dropout, CrossEntropyLoss\n",
    "import torch.nn.functional as F\n",
    "from torchtext.vocab import Vectors, GloVe, FastText\n",
    "from torchtext.data import Field, TabularDataset, LabelField, BucketIterator\n",
    "\n",
    "\n",
    "from sklearn.preprocessing import LabelEncoder\n",
    "from sklearn.feature_extraction.text import TfidfVectorizer\n",
    "from sklearn.metrics import log_loss\n",
    "from sklearn.model_selection import validation_curve\n",
    "\n",
    "import nltk\n",
    "from nltk.corpus import stopwords\n",
    "nltk.download('stopwords')\n",
    "from nltk.stem.wordnet import WordNetLemmatizer\n",
    "from nltk.tokenize import word_tokenize\n",
    "\n",
    "SEED = 0\n",
    "np.random.seed(SEED)\n",
    "\n",
    "from matplotlib import pyplot as plt\n",
    "%matplotlib inline"
   ]
  },
  {
   "cell_type": "code",
   "execution_count": 2,
   "metadata": {},
   "outputs": [
    {
     "name": "stdout",
     "output_type": "stream",
     "text": [
      "Dataset size:  (100000, 4)\n"
     ]
    },
    {
     "data": {
      "text/html": [
       "<div>\n",
       "<style scoped>\n",
       "    .dataframe tbody tr th:only-of-type {\n",
       "        vertical-align: middle;\n",
       "    }\n",
       "\n",
       "    .dataframe tbody tr th {\n",
       "        vertical-align: top;\n",
       "    }\n",
       "\n",
       "    .dataframe thead th {\n",
       "        text-align: right;\n",
       "    }\n",
       "</style>\n",
       "<table border=\"1\" class=\"dataframe\">\n",
       "  <thead>\n",
       "    <tr style=\"text-align: right;\">\n",
       "      <th></th>\n",
       "      <th>type</th>\n",
       "      <th>review</th>\n",
       "      <th>label</th>\n",
       "      <th>file</th>\n",
       "    </tr>\n",
       "  </thead>\n",
       "  <tbody>\n",
       "    <tr>\n",
       "      <th>0</th>\n",
       "      <td>test</td>\n",
       "      <td>Once again Mr. Costner has dragged out a movie...</td>\n",
       "      <td>neg</td>\n",
       "      <td>0_2.txt</td>\n",
       "    </tr>\n",
       "    <tr>\n",
       "      <th>1</th>\n",
       "      <td>test</td>\n",
       "      <td>This is an example of why the majority of acti...</td>\n",
       "      <td>neg</td>\n",
       "      <td>10000_4.txt</td>\n",
       "    </tr>\n",
       "    <tr>\n",
       "      <th>2</th>\n",
       "      <td>test</td>\n",
       "      <td>First of all I hate those moronic rappers, who...</td>\n",
       "      <td>neg</td>\n",
       "      <td>10001_1.txt</td>\n",
       "    </tr>\n",
       "    <tr>\n",
       "      <th>3</th>\n",
       "      <td>test</td>\n",
       "      <td>Not even the Beatles could write songs everyon...</td>\n",
       "      <td>neg</td>\n",
       "      <td>10002_3.txt</td>\n",
       "    </tr>\n",
       "    <tr>\n",
       "      <th>4</th>\n",
       "      <td>test</td>\n",
       "      <td>Brass pictures (movies is not a fitting word f...</td>\n",
       "      <td>neg</td>\n",
       "      <td>10003_3.txt</td>\n",
       "    </tr>\n",
       "  </tbody>\n",
       "</table>\n",
       "</div>"
      ],
      "text/plain": [
       "   type                                             review label         file\n",
       "0  test  Once again Mr. Costner has dragged out a movie...   neg      0_2.txt\n",
       "1  test  This is an example of why the majority of acti...   neg  10000_4.txt\n",
       "2  test  First of all I hate those moronic rappers, who...   neg  10001_1.txt\n",
       "3  test  Not even the Beatles could write songs everyon...   neg  10002_3.txt\n",
       "4  test  Brass pictures (movies is not a fitting word f...   neg  10003_3.txt"
      ]
     },
     "execution_count": 2,
     "metadata": {},
     "output_type": "execute_result"
    }
   ],
   "source": [
    "# Preliminary opened data in 'ISO-8859-1' encoding and saved in 'utf-8'\n",
    "df = pd.read_csv('./imdb_master.csv', encoding='utf-8', header = 0, index_col = 0)\n",
    "# df[df['type'] == 'test'].to_csv('test.csv', encoding='utf-8')\n",
    "# df[df['type'] == 'train'].to_csv('train.csv', encoding='utf-8')\n",
    "df.dropna()\n",
    "print('Dataset size: ', df.shape)\n",
    "df.head()"
   ]
  },
  {
   "cell_type": "code",
   "execution_count": 3,
   "metadata": {},
   "outputs": [
    {
     "name": "stdout",
     "output_type": "stream",
     "text": [
      "['neg' 'pos' 'unsup']\n"
     ]
    },
    {
     "data": {
      "text/plain": [
       "unsup    50000\n",
       "pos      25000\n",
       "neg      25000\n",
       "Name: label, dtype: int64"
      ]
     },
     "execution_count": 3,
     "metadata": {},
     "output_type": "execute_result"
    }
   ],
   "source": [
    "print(df['label'].unique())\n",
    "df.label.value_counts()"
   ]
  },
  {
   "cell_type": "code",
   "execution_count": 4,
   "metadata": {},
   "outputs": [],
   "source": [
    "labels = {'neg': 0, 'pos': 1, 'unsup': 2}"
   ]
  },
  {
   "cell_type": "code",
   "execution_count": 5,
   "metadata": {},
   "outputs": [],
   "source": [
    "def tokenize(string):\n",
    "    return [token for token in string.split() if token.isalpha()]\n",
    "\n",
    "TEXT = Field(tokenize=tokenize,\n",
    "             lower=True,\n",
    "             stop_words=stopwords.words('english'),\n",
    "             include_lengths=True, \n",
    "             batch_first=True, \n",
    "             eos_token='<eos>')\n",
    "\n",
    "LABEL = LabelField(use_vocab=True, preprocessing=lambda x: labels[x], dtype=torch.int64)\n",
    "\n",
    "DATA = TabularDataset('./imdb_master.csv', format='csv', skip_header=True,\n",
    "                         fields=[(None, None), (None, None),('review', TEXT),('label', LABEL), (None, None)])\n",
    "\n",
    "train = TabularDataset('./train.csv', format='csv', skip_header=True, \n",
    "                         fields=[(None, None), (None, None),('review', TEXT), ('label', LABEL), (None, None)])\n",
    "\n",
    "train, val = train.split(0.75, stratified=True)\n",
    "\n",
    "test = TabularDataset('./test.csv', format='csv', skip_header=True,\n",
    "                         fields=[(None, None), (None, None),('review', TEXT), ('label', LABEL), (None, None)])"
   ]
  },
  {
   "cell_type": "code",
   "execution_count": 6,
   "metadata": {
    "scrolled": true
   },
   "outputs": [
    {
     "data": {
      "text/plain": [
       "(31921, 31921)"
      ]
     },
     "execution_count": 6,
     "metadata": {},
     "output_type": "execute_result"
    }
   ],
   "source": [
    "# Pretrained embeddings\n",
    "TEXT.build_vocab(DATA, min_freq=10, vectors=\"fasttext.simple.300d\")\n",
    "LABEL.build_vocab(DATA)\n",
    "len(TEXT.vocab.itos), len(TEXT.vocab.vectors)"
   ]
  },
  {
   "cell_type": "code",
   "execution_count": 7,
   "metadata": {},
   "outputs": [],
   "source": [
    "class Simple_CNN(nn.Module):\n",
    "    \n",
    "    def __init__(self, vocab_size, emb_size, emb_matrix, hidden_size, kernels, mode, dropout, n_epochs=10):\n",
    "        \n",
    "        super(Simple_CNN, self).__init__()\n",
    "        if mode == 'frozen':\n",
    "            self.embedding = Embedding.from_pretrained(emb_matrix, freeze=True)\n",
    "            \n",
    "        elif mode == 'trainable':\n",
    "            self.embedding = Embedding.from_pretrained(emb_matrix, freeze=False)\n",
    "            \n",
    "        elif mode == 'random':\n",
    "            weights = nn.init.uniform_(torch.ones((vocab_size, emb_size)))\n",
    "            self.embedding = Embedding.from_pretrained(weights, freeze=False)\n",
    "        \n",
    "        self.n_epochs = n_epochs\n",
    "        self.dropout = Dropout(dropout)\n",
    "        self.convolution = ModuleList([Conv1d(emb_size, hidden_size, i, padding=5) for i in kernels])\n",
    "        self.linear = Linear(hidden_size*len(kernels), 3)\n",
    "        \n",
    "    def forward(self, i):\n",
    "        concat = []\n",
    "        i = self.embedding(i)\n",
    "        i = i.transpose(1, 2)\n",
    "        for each in self.convolution:\n",
    "            conv = each(i)\n",
    "            conv = F.max_pool1d(conv, kernel_size=conv.size(2)) # or change to avg_pool1d\n",
    "            conv = conv.squeeze(2)\n",
    "            concat.append(conv)\n",
    "        i = torch.cat(concat, 1)\n",
    "        i = self.dropout(i)\n",
    "        i = self.linear(i)\n",
    "        return i\n",
    "    \n",
    "    def evaluation(self, test_iterator, criterion):\n",
    "        epoch_loss = 0\n",
    "        with torch.no_grad():\n",
    "            for batch in test_iterator:\n",
    "                test_pred = self.forward(batch.review[0])\n",
    "                test_loss = criterion(test_pred, batch.label)\n",
    "                epoch_loss += test_loss  \n",
    "        return epoch_loss / len(test_iterator)\n",
    "    \n",
    "    def train_cnn(self):\n",
    "        lr_all = []\n",
    "        min_loss = np.inf\n",
    "        no_improvement = 0\n",
    "        for i in range(self.n_epochs):\n",
    "            train_loss = 0\n",
    "            for batch in train_iterator:\n",
    "                optimizer.zero_grad()\n",
    "                y_pred = self.forward(batch.review[0])\n",
    "                loss = criterion(y_pred, batch.label)\n",
    "                train_loss += loss\n",
    "                loss.backward(), optimizer.step()\n",
    "            train_loss = train_loss / len(train_iterator)\n",
    "            cumul_val_loss = 0\n",
    "            \n",
    "            with torch.no_grad():\n",
    "                for batch in valid_iterator:\n",
    "                    val_pred = self.forward(batch.review[0])\n",
    "                    val_loss = criterion(val_pred, batch.label)\n",
    "                    cumul_val_loss += val_loss\n",
    "            val_loss = cumul_val_loss / len(valid_iterator)\n",
    "            scheduler.step(val_loss)\n",
    "            lr_all.append(optimizer.param_groups[0]['lr'])\n",
    "            if val_loss < min_loss:\n",
    "                min_loss = val_loss\n",
    "                no_improvement = 0\n",
    "            elif no_improvement < 10:\n",
    "                no_improvement += 1\n",
    "            else:\n",
    "                break \n",
    "            print(f'Epoch {i+1:02}, train_loss - {train_loss:.4f}, val_loss - {val_loss:.4f}')\n",
    "        return lr_all"
   ]
  },
  {
   "cell_type": "code",
   "execution_count": 21,
   "metadata": {},
   "outputs": [],
   "source": [
    "import os\n",
    "os.environ[\"CUDA_VISIBLE_DEVICES\"] = \"0\""
   ]
  },
  {
   "cell_type": "code",
   "execution_count": 10,
   "metadata": {},
   "outputs": [],
   "source": [
    "torch.cuda.empty_cache()\n",
    "batch_size = 64\n",
    "lr_all = []\n",
    "losses = []\n",
    "\n",
    "train_iterator, valid_iterator, test_iterator = BucketIterator.splits((train, val, test),\n",
    "    batch_sizes=(batch_size, batch_size, batch_size),\n",
    "    sort_key=lambda x: len(x.review), shuffle=True)"
   ]
  },
  {
   "cell_type": "code",
   "execution_count": null,
   "metadata": {
    "scrolled": false
   },
   "outputs": [
    {
     "name": "stdout",
     "output_type": "stream",
     "text": [
      "Epoch 01, train_loss - 0.8581, val_loss - 0.8209\n",
      "Epoch 02, train_loss - 0.8030, val_loss - 0.7986\n",
      "Epoch 03, train_loss - 0.7541, val_loss - 0.7899\n",
      "Epoch 04, train_loss - 0.6753, val_loss - 0.8438\n",
      "Epoch 05, train_loss - 0.6451, val_loss - 0.8264\n",
      "Epoch 06, train_loss - 0.6302, val_loss - 0.8178\n",
      "Epoch 07, train_loss - 0.5982, val_loss - 0.7851\n",
      "Epoch 08, train_loss - 0.5382, val_loss - 0.7431\n",
      "Epoch 09, train_loss - 0.4372, val_loss - 0.7415\n",
      "Epoch 10, train_loss - 0.4108, val_loss - 0.7012\n",
      "test_loss: 3.913\n",
      "Epoch 01, train_loss - 0.8873, val_loss - 0.9622\n",
      "Epoch 02, train_loss - 0.8761, val_loss - 0.9721\n",
      "Epoch 03, train_loss - 0.8671, val_loss - 0.9685\n",
      "Epoch 04, train_loss - 0.8592, val_loss - 0.9875\n",
      "Epoch 05, train_loss - 0.8291, val_loss - 1.0893\n",
      "Epoch 06, train_loss - 0.8278, val_loss - 0.9772\n",
      "Epoch 07, train_loss - 0.8241, val_loss - 0.9771\n",
      "Epoch 08, train_loss - 0.8239, val_loss - 0.9763\n",
      "Epoch 09, train_loss - 0.8236, val_loss - 0.9767\n",
      "Epoch 10, train_loss - 0.8233, val_loss - 0.9803\n",
      "test_loss: 1.898\n",
      "Epoch 01, train_loss - 0.8067, val_loss - 0.9871\n",
      "Epoch 02, train_loss - 0.7923, val_loss - 0.9923\n",
      "Epoch 03, train_loss - 0.6994, val_loss - 0.9834\n",
      "Epoch 04, train_loss - 0.5723, val_loss - 1.0152\n",
      "Epoch 05, train_loss - 0.4992, val_loss - 1.6729\n",
      "Epoch 06, train_loss - 0.4872, val_loss - 2.1636\n",
      "Epoch 07, train_loss - 0.3523, val_loss - 2.8624\n",
      "Epoch 08, train_loss - 0.2984, val_loss - 3.1034\n",
      "Epoch 09, train_loss - 0.2783, val_loss - 3.9238\n",
      "Epoch 10, train_loss - 0.2764, val_loss - 4.5384\n",
      "test_loss: 10.351\n"
     ]
    }
   ],
   "source": [
    "for mode in ['random', 'frozen', 'trainable']:\n",
    "    torch.cuda.empty_cache()\n",
    "    model = Simple_CNN(len(TEXT.vocab.itos),emb_size=300,emb_matrix=TEXT.vocab.vectors,\n",
    "                hidden_size=300,kernels=[2,3,4,5],mode=mode, dropout = 0.2, n_epochs=10)\n",
    "    optimizer = optim.RMSprop(model.parameters())\n",
    "    scheduler = optim.lr_scheduler.ReduceLROnPlateau(optimizer, patience=0, verbose=False, cooldown=2)\n",
    "    criterion = CrossEntropyLoss()\n",
    "    lr = model.train_cnn()\n",
    "    lr_all.append(lr)\n",
    "    test_loss = model.evaluation(test_iterator, criterion)\n",
    "    losses.append(test_loss)\n",
    "    print(f' test_loss: {test_loss:.4f}')"
   ]
  },
  {
   "cell_type": "code",
   "execution_count": 32,
   "metadata": {},
   "outputs": [
    {
     "data": {
      "text/plain": [
       "Text(0, 0.5, 'Learning rate')"
      ]
     },
     "execution_count": 32,
     "metadata": {},
     "output_type": "execute_result"
    },
    {
     "data": {
      "image/png": "[encoded data removed]",
      "text/plain": [
       "<Figure size 432x288 with 1 Axes>"
      ]
     },
     "metadata": {
      "needs_background": "light"
     },
     "output_type": "display_data"
    }
   ],
   "source": [
    "# Learning rate across epochs\n",
    "plt.plot(range(0, len(lr_all[0])), lr_all[0], 'r', label = 'random', linewidth=10)\n",
    "plt.plot(range(0, len(lr_all[1])), lr_all[1], 'b', label = 'frozen', linewidth=6)\n",
    "plt.plot(range(0, len(lr_all[2])), lr_all[2], 'g--', label = 'trainable', linewidth=2)\n",
    "plt.legend()\n",
    "plt.title('Learning rate across epochs')\n",
    "plt.xlabel('Epochs')\n",
    "plt.ylabel('Learning rate')"
   ]
  },
  {
   "cell_type": "code",
   "execution_count": 39,
   "metadata": {},
   "outputs": [
    {
     "data": {
      "text/plain": [
       "Text(0, 0.5, 'Crossentropy Loss on test')"
      ]
     },
     "execution_count": 39,
     "metadata": {},
     "output_type": "execute_result"
    },
    {
     "data": {
      "image/png": "[encoded data removed]",
      "text/plain": [
       "<Figure size 432x288 with 1 Axes>"
      ]
     },
     "metadata": {
      "needs_background": "light"
     },
     "output_type": "display_data"
    }
   ],
   "source": [
    "# Validation curve\n",
    "plt.plot(['frozen', 'random', 'trainable'], [losses[1], losses[0], losses[2]], 'g', linewidth=4)\n",
    "plt.title('Validation Curve')\n",
    "plt.xlabel('Mode')\n",
    "plt.ylabel('Crossentropy Loss on test')"
   ]
  },
  {
   "cell_type": "markdown",
   "metadata": {},
   "source": [
    "Сохраним"
   ]
  },
  {
   "cell_type": "code",
   "execution_count": 8,
   "metadata": {},
   "outputs": [],
   "source": [
    "with open('losses.pkl', 'wb') as file:\n",
    "    pickle.dump(losses, file)\n",
    "\n",
    "with open('lr_all.pkl', 'wb') as file:\n",
    "    pickle.dump(lr_all, file)"
   ]
  }
 ],
 "metadata": {
  "kernelspec": {
   "display_name": "Python 3",
   "language": "python",
   "name": "python3"
  },
  "language_info": {
   "codemirror_mode": {
    "name": "ipython",
    "version": 3
   },
   "file_extension": ".py",
   "mimetype": "text/x-python",
   "name": "python",
   "nbconvert_exporter": "python",
   "pygments_lexer": "ipython3",
   "version": "3.7.1"
  }
 },
 "nbformat": 4,
 "nbformat_minor": 2
}
