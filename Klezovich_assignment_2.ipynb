{
 "cells": [
  {
   "cell_type": "markdown",
   "metadata": {},
   "source": [
    "# Assignment 2"
   ]
  },
  {
   "cell_type": "markdown",
   "metadata": {},
   "source": [
    "Продемонстрировать положение No Free Lunch Theorem. (см материалы семинара)   \n",
    "Качество работы оценивается по accuracy на тестовой выборке согласно пайплайну (см материалы семинара). Метод валидации (если вы его применяете) 5-fold cv.  \n",
    "В выводе для каждой модели указать какие предположения она делает относительно данных. В выводе указать почему модель плохо / хорошо работает на сгенерированной вами выборке. Использовать пространство признаков размерности 2 при классификации и размерности 1 при регрессии. При возможности, нарисовать выборку на графике (цветами обозначить классы).  "
   ]
  },
  {
   "cell_type": "code",
   "execution_count": 2,
   "metadata": {},
   "outputs": [],
   "source": [
    "import warnings\n",
    "warnings.filterwarnings(\"ignore\")\n",
    "import numpy as np\n",
    "import pandas as pd\n",
    "import matplotlib.pyplot as plt\n",
    "from sklearn.model_selection import train_test_split"
   ]
  },
  {
   "cell_type": "markdown",
   "metadata": {},
   "source": [
    "**1. Сгенерировать датасет для задачи бинарной классификации (binary crossentropy), \n",
    "на котором метод ближайших соседей работает хуже, чем логистическая регрессия.**"
   ]
  },
  {
   "cell_type": "markdown",
   "metadata": {},
   "source": [
    "Нам нужно сделать так чтобы расстояния от точек одного класса до точек другого класса было ближе, чем расстояние до точек своего класса. Для этого нужно сделать какой-нибудь вытянутый датасет со слегка пересекающимися точками."
   ]
  },
  {
   "cell_type": "code",
   "execution_count": 3,
   "metadata": {},
   "outputs": [],
   "source": [
    "from sklearn.neighbors import KNeighborsClassifier\n",
    "from sklearn.linear_model import LogisticRegression\n",
    "from sklearn.model_selection import cross_val_score"
   ]
  },
  {
   "cell_type": "code",
   "execution_count": 387,
   "metadata": {},
   "outputs": [
    {
     "data": {
      "text/plain": [
       "<matplotlib.collections.PathCollection at 0x1bd16cddf98>"
      ]
     },
     "execution_count": 387,
     "metadata": {},
     "output_type": "execute_result"
    },
    {
     "data": {
      "image/png": "[encoded data removed]",
      "text/plain": [
       "<Figure size 432x288 with 1 Axes>"
      ]
     },
     "metadata": {
      "needs_background": "light"
     },
     "output_type": "display_data"
    }
   ],
   "source": [
    "xs, ys = [], []\n",
    "for i in range(0, 40):\n",
    "    x = i\n",
    "    y = 0\n",
    "    xs.append(x)\n",
    "    ys.append(y)\n",
    "xd, yd = [], []\n",
    "for i in range(0, 40):\n",
    "    x = i + 0.3\n",
    "    y = 0\n",
    "    xd.append(x)\n",
    "    yd.append(y)\n",
    "plt.scatter(xs, ys)\n",
    "plt.scatter(xd, yd)"
   ]
  },
  {
   "cell_type": "code",
   "execution_count": 388,
   "metadata": {},
   "outputs": [],
   "source": [
    "for el in xs:\n",
    "    xd.append(el)\n",
    "for el in ys:\n",
    "    yd.append(el)\n",
    "X = xd\n",
    "Xy = yd\n",
    "Y = [1]*len(X) + [0]*len(Xy)"
   ]
  },
  {
   "cell_type": "code",
   "execution_count": 389,
   "metadata": {},
   "outputs": [],
   "source": [
    "X_train, X_test, y_train, y_test = train_test_split(X + Xy, Y, random_state=42)"
   ]
  },
  {
   "cell_type": "code",
   "execution_count": 390,
   "metadata": {},
   "outputs": [],
   "source": [
    "knn = KNeighborsClassifier(n_neighbors=7)\n",
    "logisticRegr = LogisticRegression()"
   ]
  },
  {
   "cell_type": "markdown",
   "metadata": {},
   "source": [
    "5-fold cv"
   ]
  },
  {
   "cell_type": "code",
   "execution_count": 391,
   "metadata": {},
   "outputs": [
    {
     "name": "stdout",
     "output_type": "stream",
     "text": [
      "logistic regression  [1.         1.         1.         1.         0.71428571]\n",
      "knn  [1.         1.         1.         1.         0.57142857]\n"
     ]
    }
   ],
   "source": [
    "score1 = cross_val_score(logisticRegr, np.array(X_test).reshape((len(X_test), 1)), y_test, cv=5, scoring='accuracy')\n",
    "score2 = cross_val_score(knn, np.array(X_test).reshape((len(X_test), 1)), y_test, cv=5, scoring='accuracy')\n",
    "print('logistic regression ', score1)\n",
    "print('knn ', score2)"
   ]
  },
  {
   "cell_type": "code",
   "execution_count": 392,
   "metadata": {},
   "outputs": [
    {
     "data": {
      "image/png": "[encoded data removed]",
      "text/plain": [
       "<Figure size 432x288 with 1 Axes>"
      ]
     },
     "metadata": {
      "needs_background": "light"
     },
     "output_type": "display_data"
    }
   ],
   "source": [
    "n = np.arange(0, 5)\n",
    "plt.plot(n, score1, label='Logistic Regression')\n",
    "plt.plot(n, score2, label='KNN')\n",
    "plt.legend()\n",
    "plt.ylabel('Accuracy')\n",
    "plt.show()"
   ]
  },
  {
   "cell_type": "markdown",
   "metadata": {},
   "source": [
    "Как-то не сильно лучше логистическая регрессия работает, но немного лучше."
   ]
  },
  {
   "cell_type": "markdown",
   "metadata": {},
   "source": [
    "Попробуем другой датасет. Тут один класс как бы внутри другого класса, и точки, которые на внешней окружности ближе к точкам в центре окружности, чем к точкам по другую сторону диаметра окружности, поэтому knn должен хуже разделять."
   ]
  },
  {
   "cell_type": "code",
   "execution_count": 487,
   "metadata": {},
   "outputs": [],
   "source": [
    "class Circle:\n",
    "    def __init__(self, origin, radius):\n",
    "        self.origin = origin\n",
    "        self.radius = radius"
   ]
  },
  {
   "cell_type": "code",
   "execution_count": 488,
   "metadata": {},
   "outputs": [],
   "source": [
    "origin = (0, 0)\n",
    "radius = 10\n",
    "circle = Circle(origin, radius)"
   ]
  },
  {
   "cell_type": "code",
   "execution_count": 489,
   "metadata": {},
   "outputs": [],
   "source": [
    "import random\n",
    "import math\n",
    "\n",
    "xs, ys = [], []\n",
    "for i in range(0, 500):\n",
    "    p = random.random() * 2 * math.pi\n",
    "    r = circle.radius * random.random()\n",
    "    x = math.cos(p) * r\n",
    "    y = math.sin(p) * r\n",
    "    xs.append(x)\n",
    "    ys.append(y)"
   ]
  },
  {
   "cell_type": "code",
   "execution_count": 490,
   "metadata": {},
   "outputs": [],
   "source": [
    "n = 500\n",
    "r = radius + 5\n",
    "xs2 = []\n",
    "ys2 = []\n",
    "for x in range(0, n+1):\n",
    "    xs2.append(math.cos(2*math.pi/n*x)*r)\n",
    "    ys2.append(math.sin(2*math.pi/n*x)*r)"
   ]
  },
  {
   "cell_type": "code",
   "execution_count": 491,
   "metadata": {},
   "outputs": [],
   "source": [
    "n = 500\n",
    "r = radius + 6\n",
    "xs3 = []\n",
    "ys3 = []\n",
    "for x in range(0, n+1):\n",
    "    xs3.append(math.cos(2*math.pi/n*x)*r)\n",
    "    ys3.append(math.sin(2*math.pi/n*x)*r)"
   ]
  },
  {
   "cell_type": "code",
   "execution_count": 492,
   "metadata": {},
   "outputs": [],
   "source": [
    "for el in xs3:\n",
    "    xs2.append(el)\n",
    "for el in ys3:\n",
    "    ys2.append(el)"
   ]
  },
  {
   "cell_type": "code",
   "execution_count": 493,
   "metadata": {},
   "outputs": [
    {
     "data": {
      "text/plain": [
       "<matplotlib.collections.PathCollection at 0x1bd182bdb70>"
      ]
     },
     "execution_count": 493,
     "metadata": {},
     "output_type": "execute_result"
    },
    {
     "data": {
      "image/png": "[encoded data removed]",
      "text/plain": [
       "<Figure size 432x288 with 1 Axes>"
      ]
     },
     "metadata": {
      "needs_background": "light"
     },
     "output_type": "display_data"
    }
   ],
   "source": [
    "plt.scatter(xs, ys)\n",
    "plt.scatter(xs2 ,ys2)"
   ]
  },
  {
   "cell_type": "code",
   "execution_count": 494,
   "metadata": {},
   "outputs": [],
   "source": [
    "for el in xs2:\n",
    "    xs.append(el)\n",
    "for el in ys2:\n",
    "    ys.append(el)\n",
    "X = xs\n",
    "Xy = ys\n",
    "Y = [1]*len(X) + [0]*len(Xy)"
   ]
  },
  {
   "cell_type": "code",
   "execution_count": 495,
   "metadata": {},
   "outputs": [],
   "source": [
    "X_train, X_test, y_train, y_test = train_test_split(X + Xy, Y, random_state=42)"
   ]
  },
  {
   "cell_type": "code",
   "execution_count": 496,
   "metadata": {},
   "outputs": [],
   "source": [
    "df = pd.DataFrame({'X_train': X_train, 'y_train' : y_train})\n",
    "df2 = pd.DataFrame({'X_test': X_test, 'y_test' : y_test})\n",
    "y_train = df.y_train.astype('int')\n",
    "y_test = df2.y_test.astype('int')"
   ]
  },
  {
   "cell_type": "markdown",
   "metadata": {},
   "source": [
    "Train and find accuracy for the KNN:"
   ]
  },
  {
   "cell_type": "code",
   "execution_count": 497,
   "metadata": {},
   "outputs": [
    {
     "data": {
      "text/plain": [
       "0.35153129161118507"
      ]
     },
     "execution_count": 497,
     "metadata": {},
     "output_type": "execute_result"
    }
   ],
   "source": [
    "knn = KNeighborsClassifier(n_neighbors=5)\n",
    "knn.fit(np.array(X_train).reshape((len(X_train), 1)), y_train)\n",
    "knn.score(np.array(X_test).reshape((len(X_test), 1)), y_test)  # mean accuracy"
   ]
  },
  {
   "cell_type": "code",
   "execution_count": 498,
   "metadata": {},
   "outputs": [],
   "source": [
    "neighbors = np.arange(1, 20)\n",
    "train_accuracy = np.empty(len(neighbors))\n",
    "test_accuracy = np.empty(len(neighbors))\n",
    "\n",
    "for i,k in enumerate(neighbors):\n",
    "    knn = KNeighborsClassifier(n_neighbors=k)\n",
    "    knn.fit(np.array(X_train).reshape((len(X_train), 1)), y_train)\n",
    "    \n",
    "    train_accuracy[i] = knn.score(np.array(X_train).reshape((len(X_train), 1)), y_train)\n",
    "    \n",
    "    test_accuracy[i] = knn.score(np.array(X_test).reshape((len(X_test), 1)), y_test)  # mean accuracy"
   ]
  },
  {
   "cell_type": "code",
   "execution_count": 499,
   "metadata": {},
   "outputs": [
    {
     "data": {
      "image/png": "[encoded data removed]",
      "text/plain": [
       "<Figure size 432x288 with 1 Axes>"
      ]
     },
     "metadata": {
      "needs_background": "light"
     },
     "output_type": "display_data"
    }
   ],
   "source": [
    "plt.plot(neighbors, test_accuracy, label='Testing Accuracy')\n",
    "plt.plot(neighbors, train_accuracy, label='Training accuracy')\n",
    "plt.legend()\n",
    "plt.xlabel('Number of neighbors')\n",
    "plt.ylabel('Accuracy')\n",
    "plt.show()"
   ]
  },
  {
   "cell_type": "markdown",
   "metadata": {},
   "source": [
    "7 neighbours seem to be fine choice. So the accuracy on the test set for KNN will be:"
   ]
  },
  {
   "cell_type": "code",
   "execution_count": 500,
   "metadata": {},
   "outputs": [
    {
     "data": {
      "text/plain": [
       "0.4021304926764314"
      ]
     },
     "execution_count": 500,
     "metadata": {},
     "output_type": "execute_result"
    }
   ],
   "source": [
    "test_accuracy[7]"
   ]
  },
  {
   "cell_type": "markdown",
   "metadata": {},
   "source": [
    "So now we just need to prove that logistic regression works better on the present dataset"
   ]
  },
  {
   "cell_type": "code",
   "execution_count": 501,
   "metadata": {},
   "outputs": [],
   "source": [
    "logisticRegr = LogisticRegression(penalty='l2',C = 1,random_state = 0)\n",
    "logisticRegr.fit(np.array(X_train).reshape((len(X_train), 1)), y_train)\n",
    "predictions = logisticRegr.predict(np.array(X_test).reshape((len(X_test), 1)))"
   ]
  },
  {
   "cell_type": "code",
   "execution_count": 502,
   "metadata": {},
   "outputs": [
    {
     "name": "stdout",
     "output_type": "stream",
     "text": [
      "0.48202396804260983\n"
     ]
    }
   ],
   "source": [
    "score = logisticRegr.score(np.array(X_test).reshape((len(X_test), 1)), y_test)\n",
    "print(score)"
   ]
  },
  {
   "cell_type": "markdown",
   "metadata": {},
   "source": [
    "As we can see logistic regression gives a better accuracy prediction."
   ]
  },
  {
   "cell_type": "markdown",
   "metadata": {},
   "source": [
    "Валидация с помощью 5-fold cv:"
   ]
  },
  {
   "cell_type": "code",
   "execution_count": 503,
   "metadata": {},
   "outputs": [],
   "source": [
    "knn = KNeighborsClassifier(n_neighbors=7)\n",
    "logisticRegr = LogisticRegression()"
   ]
  },
  {
   "cell_type": "code",
   "execution_count": 504,
   "metadata": {},
   "outputs": [
    {
     "name": "stdout",
     "output_type": "stream",
     "text": [
      "logistic regression  [0.43046358 0.53642384 0.52       0.58       0.51006711]\n",
      "knn  [0.38410596 0.43046358 0.44666667 0.48       0.42281879]\n"
     ]
    }
   ],
   "source": [
    "score1 = cross_val_score(logisticRegr, np.array(X_test).reshape((len(X_test), 1)), y_test, cv=5, scoring='accuracy')\n",
    "score2 = cross_val_score(knn, np.array(X_test).reshape((len(X_test), 1)), y_test, cv=5, scoring='accuracy')\n",
    "print('logistic regression ', score1)\n",
    "print('knn ', score2)"
   ]
  },
  {
   "cell_type": "code",
   "execution_count": 505,
   "metadata": {},
   "outputs": [
    {
     "data": {
      "image/png": "[encoded data removed]",
      "text/plain": [
       "<Figure size 432x288 with 1 Axes>"
      ]
     },
     "metadata": {
      "needs_background": "light"
     },
     "output_type": "display_data"
    }
   ],
   "source": [
    "n = np.arange(0, 5)\n",
    "plt.plot(n, score1, label='Logistic Regression')\n",
    "plt.plot(n, score2, label='KNN')\n",
    "plt.legend()\n",
    "plt.ylabel('Accuracy')\n",
    "plt.show()"
   ]
  },
  {
   "cell_type": "markdown",
   "metadata": {},
   "source": [
    "**2. Сгенерировать датасет для задачи бинарной классификации (binary crossentropy), \n",
    "на котором логистическая регрессия работает хуже, чем метод ближайших соседей.**"
   ]
  },
  {
   "cell_type": "markdown",
   "metadata": {},
   "source": [
    "Тут нам нужно сделать так, чтобы датасет был линейно не разделим."
   ]
  },
  {
   "cell_type": "code",
   "execution_count": 411,
   "metadata": {},
   "outputs": [],
   "source": [
    "def generate_dots(origin, radius):\n",
    "    circle = Circle(origin, radius)\n",
    "    xs, ys = [], []\n",
    "    for i in range(0, 1000):\n",
    "        p = random.random() * 2 * math.pi\n",
    "        r = circle.radius * random.random()\n",
    "        x = math.cos(p) * r + origin[0]\n",
    "        y = math.sin(p) * r + origin[1]\n",
    "        xs.append(x)\n",
    "        ys.append(y)\n",
    "    return xs, ys"
   ]
  },
  {
   "cell_type": "code",
   "execution_count": 412,
   "metadata": {},
   "outputs": [
    {
     "data": {
      "text/plain": [
       "<matplotlib.collections.PathCollection at 0x1bd170200b8>"
      ]
     },
     "execution_count": 412,
     "metadata": {},
     "output_type": "execute_result"
    },
    {
     "data": {
      "image/png": "[encoded data removed]",
      "text/plain": [
       "<Figure size 432x288 with 1 Axes>"
      ]
     },
     "metadata": {
      "needs_background": "light"
     },
     "output_type": "display_data"
    }
   ],
   "source": [
    "x1, y1 = generate_dots((2,2), 1.9)\n",
    "x2, y2 = generate_dots((6,6), 1.9)\n",
    "x3, y3 = generate_dots((2,6), 1.9)\n",
    "x4, y4 = generate_dots((6,2), 1.9)\n",
    "for el in x2:\n",
    "    x1.append(el)\n",
    "for el in y2:\n",
    "    y1.append(el)\n",
    "for el in x4:\n",
    "    x3.append(el)\n",
    "for el in y4:\n",
    "    y3.append(el)\n",
    "plt.scatter(x1, y1)\n",
    "plt.scatter(x3, y3)"
   ]
  },
  {
   "cell_type": "code",
   "execution_count": 413,
   "metadata": {},
   "outputs": [],
   "source": [
    "knn1 = KNeighborsClassifier(n_neighbors=7)\n",
    "logisticRegr1 = LogisticRegression()"
   ]
  },
  {
   "cell_type": "code",
   "execution_count": 414,
   "metadata": {},
   "outputs": [],
   "source": [
    "# preprocessing\n",
    "for el in x3:\n",
    "    x1.append(el)\n",
    "for el in y3:\n",
    "    y1.append(el)\n",
    "X = x1\n",
    "Xy = y1\n",
    "Y = [1]*len(X) + [0]*len(Xy)\n",
    "X_train, X_test, y_train, y_test = train_test_split(X+Xy, Y, random_state=42)\n",
    "df = pd.DataFrame({'X_train': X_train, 'y_train' : y_train})\n",
    "df2 = pd.DataFrame({'X_test': X_test, 'y_test' : y_test})\n",
    "y_train = df.y_train.astype('int')\n",
    "y_test = df2.y_test.astype('int')"
   ]
  },
  {
   "cell_type": "code",
   "execution_count": 415,
   "metadata": {},
   "outputs": [
    {
     "name": "stdout",
     "output_type": "stream",
     "text": [
      "logistic regression  [0.48129676 0.48628429 0.4425     0.49373434 0.50877193]\n",
      "knn  [0.52369077 0.54862843 0.485      0.44360902 0.47117794]\n"
     ]
    }
   ],
   "source": [
    "score1 = cross_val_score(logisticRegr1, np.array(X_test).reshape((len(X_test), 1)), y_test, cv=5, scoring='accuracy')\n",
    "score2 = cross_val_score(knn1, np.array(X_test).reshape((len(X_test), 1)), y_test, cv=5, scoring='accuracy')\n",
    "print('logistic regression ', score1)\n",
    "print('knn ', score2)"
   ]
  },
  {
   "cell_type": "code",
   "execution_count": 416,
   "metadata": {},
   "outputs": [
    {
     "data": {
      "image/png": "[encoded data removed]",
      "text/plain": [
       "<Figure size 432x288 with 1 Axes>"
      ]
     },
     "metadata": {
      "needs_background": "light"
     },
     "output_type": "display_data"
    }
   ],
   "source": [
    "n = np.arange(0, 5)\n",
    "plt.plot(n, score1, label='Logistic Regression')\n",
    "plt.plot(n, score2, label='KNN') \n",
    "plt.legend()\n",
    "plt.ylabel('Accuracy')\n",
    "plt.show()"
   ]
  },
  {
   "cell_type": "markdown",
   "metadata": {},
   "source": [
    "KNN немного лучше логистической регрессии."
   ]
  },
  {
   "cell_type": "markdown",
   "metadata": {},
   "source": [
    "**3. Сгенерировать датасет для задачи бинарной классификации (binary crossentropy), \n",
    "на котором метод ближайших соседей с косинусной метрикой расстояния работает лучше, чем с евклидовой метрикой.**"
   ]
  },
  {
   "cell_type": "markdown",
   "metadata": {},
   "source": [
    "Косинусное расстояние учитывает только угол, а евклидово расстояние учитывает и угол, и величину вектора (в смысле координаты)."
   ]
  },
  {
   "cell_type": "markdown",
   "metadata": {},
   "source": [
    "Опять же, как и в первом задании, чтобы knn работал хуже нам надо, чтобы расстояния от точек одного класса до точек другого класса было ближе, чем расстояние до точек своего класса. Но при этом все точки должны однозначно опозноваться с помощью косинусного расстояния. Для этого точки разных классов должны лежать на двух разных прямых, которые наклонены по отношению друг к другу с очень маленьким углом, чтобы это была почти как одна линия, и это мешала эвклидову расстоянию."
   ]
  },
  {
   "cell_type": "code",
   "execution_count": 51,
   "metadata": {},
   "outputs": [
    {
     "data": {
      "text/plain": [
       "<matplotlib.collections.PathCollection at 0x1efee9da128>"
      ]
     },
     "execution_count": 51,
     "metadata": {},
     "output_type": "execute_result"
    },
    {
     "data": {
      "image/png": "[encoded data removed]",
      "text/plain": [
       "<Figure size 432x288 with 1 Axes>"
      ]
     },
     "metadata": {
      "needs_background": "light"
     },
     "output_type": "display_data"
    }
   ],
   "source": [
    "xs, ys = [], []\n",
    "for i in range(0, 40):\n",
    "    x = i\n",
    "    y = - i * 0.3\n",
    "    xs.append(x)\n",
    "    ys.append(y)\n",
    "xd, yd = [], []\n",
    "for i in range(0, 40):\n",
    "    x = i\n",
    "    y = - i * 0.325 + 0.5\n",
    "    xd.append(x)\n",
    "    yd.append(y)\n",
    "plt.scatter(xs, ys)\n",
    "plt.scatter(xd, yd)"
   ]
  },
  {
   "cell_type": "code",
   "execution_count": 52,
   "metadata": {},
   "outputs": [],
   "source": [
    "for el in xs:\n",
    "    xd.append(el)\n",
    "for el in ys:\n",
    "    yd.append(el)\n",
    "X = xd\n",
    "Xy = yd\n",
    "Y = [1]*len(X) + [0]*len(Xy)"
   ]
  },
  {
   "cell_type": "code",
   "execution_count": 53,
   "metadata": {},
   "outputs": [],
   "source": [
    "X_train, X_test, y_train, y_test = train_test_split(X + Xy, Y, random_state=42)"
   ]
  },
  {
   "cell_type": "code",
   "execution_count": 54,
   "metadata": {},
   "outputs": [],
   "source": [
    "cosine = KNeighborsClassifier(n_neighbors=7, metric='cosine')\n",
    "euclidean = KNeighborsClassifier(n_neighbors=7, metric='euclidean')"
   ]
  },
  {
   "cell_type": "code",
   "execution_count": 55,
   "metadata": {},
   "outputs": [
    {
     "name": "stdout",
     "output_type": "stream",
     "text": [
      "Cosine [1. 1. 1. 1. 1.]\n",
      "Euclidean [1.         1.         1.         1.         0.57142857]\n"
     ]
    }
   ],
   "source": [
    "score1 = cross_val_score(cosine, np.array(X_test).reshape(-1, 1), y_test, cv=5, scoring='accuracy')\n",
    "score2 = cross_val_score(euclidean, np.array(X_test).reshape(-1, 1), y_test, cv=5, scoring='accuracy')\n",
    "print('Cosine', score1)\n",
    "print('Euclidean', score2)"
   ]
  },
  {
   "cell_type": "code",
   "execution_count": 56,
   "metadata": {},
   "outputs": [
    {
     "data": {
      "image/png": "[encoded data removed]",
      "text/plain": [
       "<Figure size 432x288 with 1 Axes>"
      ]
     },
     "metadata": {
      "needs_background": "light"
     },
     "output_type": "display_data"
    }
   ],
   "source": [
    "n = np.arange(0, 5)\n",
    "plt.plot(n, score1, label='cosine')\n",
    "plt.plot(n, score2, label='euclidean')\n",
    "plt.legend()\n",
    "plt.ylabel('Accuracy')\n",
    "plt.show()"
   ]
  },
  {
   "cell_type": "markdown",
   "metadata": {},
   "source": [
    "**4. Сгенерировать датасет для задачи регрессии (MSE),\n",
    "на котором решающее дерево работает хуже, чем линейная регрессия.** "
   ]
  },
  {
   "cell_type": "code",
   "execution_count": 65,
   "metadata": {},
   "outputs": [],
   "source": [
    "from sklearn.tree import DecisionTreeRegressor\n",
    "from sklearn.linear_model import LinearRegression"
   ]
  },
  {
   "cell_type": "markdown",
   "metadata": {},
   "source": [
    "Возьмё датасет, в котором простая линейная зависимость x от y и один единственный outlier. В такой ситуации линейная регрессия должна отработать лучше, чем решающее дерево. Решающее дерево работает лучше линейной регрессии, когда в данных много шума, но не когда только одна ошибка на весь датасет."
   ]
  },
  {
   "cell_type": "code",
   "execution_count": 77,
   "metadata": {},
   "outputs": [
    {
     "data": {
      "text/plain": [
       "<matplotlib.collections.PathCollection at 0x1efed714d68>"
      ]
     },
     "execution_count": 77,
     "metadata": {},
     "output_type": "execute_result"
    },
    {
     "data": {
      "image/png": "[encoded data removed]",
      "text/plain": [
       "<Figure size 432x288 with 1 Axes>"
      ]
     },
     "metadata": {
      "needs_background": "light"
     },
     "output_type": "display_data"
    }
   ],
   "source": [
    "xs, ys = [], []\n",
    "for i in range(0, 40):\n",
    "    x = i\n",
    "    y = - i * 0.3\n",
    "    xs.append(x)\n",
    "    ys.append(y)\n",
    "xs.append(5)\n",
    "ys.append(-10)\n",
    "plt.scatter(xs, ys)"
   ]
  },
  {
   "cell_type": "code",
   "execution_count": 78,
   "metadata": {},
   "outputs": [],
   "source": [
    "linearRegr = LinearRegression()\n",
    "decision_tree = DecisionTreeRegressor()"
   ]
  },
  {
   "cell_type": "code",
   "execution_count": 79,
   "metadata": {},
   "outputs": [],
   "source": [
    "from sklearn import cross_validation\n",
    "loo = cross_validation.LeaveOneOut(len(ys))"
   ]
  },
  {
   "cell_type": "code",
   "execution_count": 80,
   "metadata": {},
   "outputs": [
    {
     "name": "stdout",
     "output_type": "stream",
     "text": [
      "MSE for linear regression -1.8755233368441278\n",
      "Decision tree -16.852694444444445\n"
     ]
    }
   ],
   "source": [
    "score1 = cross_val_score(linearRegr,  np.array(xs).reshape(-1, 1), ys, cv=loo, scoring='mean_squared_error')\n",
    "score2 = cross_val_score(decision_tree, np.array(xs).reshape(-1, 1), ys, cv=5, scoring='mean_squared_error')\n",
    "print('MSE for linear regression', score1.mean())\n",
    "print('Decision tree', score2.mean())"
   ]
  },
  {
   "cell_type": "markdown",
   "metadata": {},
   "source": [
    "Получилось так, как мы и ожидали."
   ]
  }
 ],
 "metadata": {
  "kernelspec": {
   "display_name": "Python 3",
   "language": "python",
   "name": "python3"
  },
  "language_info": {
   "codemirror_mode": {
    "name": "ipython",
    "version": 3
   },
   "file_extension": ".py",
   "mimetype": "text/x-python",
   "name": "python",
   "nbconvert_exporter": "python",
   "pygments_lexer": "ipython3",
   "version": "3.7.0"
  },
  "widgets": {
   "state": {},
   "version": "1.1.2"
  }
 },
 "nbformat": 4,
 "nbformat_minor": 2
}
