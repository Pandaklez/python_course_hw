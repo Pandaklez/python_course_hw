{
 "cells": [
  {
   "cell_type": "markdown",
   "metadata": {},
   "source": [
    "Используя определение, оценить сложность по радемахеру для логистической регресии на breast cancer dataset из scikit-learn (бинарная классификация). Подробнее в материалах лекции и на вики.\n",
    "\n",
    "Построить график зависимости сложности по радемахеру от коэф L2 регуляризации для alpha=np.logspace(-2,2,5). \n",
    "\n",
    "Для каждой точки выполнить 100 экспериментов, на графике отобразить стандартное отклонение оценки в каждой точке.\n",
    "Не забудьте  предварительно применить к признакам standard scaling."
   ]
  },
  {
   "cell_type": "markdown",
   "metadata": {},
   "source": [
    "**Rademacher complexity**:  \n",
    "Suppose now that the labels $y_i$ are chosen at random without regard to the $x_i$. In other words, suppose we replace each $y_i$ by a random variable $\\sigma_i$ that is −1 or +1 with\n",
    "equal probability, independent of everything else. Thus, the $\\sigma_i$ represent labels that are pure noise. We can measure how well the space $H$ can fit this noise in expectation\n",
    "by  \n",
    "$E_{sigma} [\\max_{h \\in H} \\frac 1 m \\sum _{i=1}^m \\sigma_i h(x_i)]$, which is called Rademacher complexity."
   ]
  },
  {
   "cell_type": "code",
   "execution_count": 40,
   "metadata": {},
   "outputs": [],
   "source": [
    "import numpy as np\n",
    "import matplotlib.pyplot as plt\n",
    "import random\n",
    "%matplotlib inline"
   ]
  },
  {
   "cell_type": "code",
   "execution_count": 207,
   "metadata": {},
   "outputs": [],
   "source": [
    "from sklearn.datasets import load_breast_cancer\n",
    "from sklearn.model_selection import GridSearchCV\n",
    "from sklearn.linear_model import LogisticRegression\n",
    "from sklearn.model_selection import train_test_split\n",
    "from sklearn.preprocessing import LabelEncoder\n",
    "from sklearn.preprocessing import StandardScaler"
   ]
  },
  {
   "cell_type": "code",
   "execution_count": 206,
   "metadata": {},
   "outputs": [],
   "source": [
    "cancer = load_breast_cancer()\n",
    "\n",
    "labelencoder_Y = LabelEncoder()\n",
    "y = labelencoder_Y.fit_transform(cancer.target)"
   ]
  },
  {
   "cell_type": "markdown",
   "metadata": {},
   "source": [
    "В scikit-learn параметр альфа нельзя задать, но можно задать С,   \n",
    "$C = \\frac 1 \\alpha\\$"
   ]
  },
  {
   "cell_type": "code",
   "execution_count": 182,
   "metadata": {},
   "outputs": [],
   "source": [
    "sigma = np.array([-1] * int(np.ceil(len(y_train) / 2)) + [1] * (len(y_train) - int(np.ceil(len(y_train) / 2))))\n",
    "np.random.shuffle(sigma)"
   ]
  },
  {
   "cell_type": "code",
   "execution_count": 186,
   "metadata": {},
   "outputs": [],
   "source": [
    "def data_split(cancer, seed):\n",
    "    X_train, X_test, y_train, y_test = train_test_split(cancer.data, y, stratify=y,\n",
    "                                                        test_size=0.2, random_state=seed)\n",
    "    sc = StandardScaler()\n",
    "    X_train = sc.fit_transform(X_train)\n",
    "    X_test = sc.transform(X_test)\n",
    "    return X_train, X_test, y_train, y_test\n",
    "    \n",
    "def experiment(X_train, y_train, seed, alpha):    \n",
    "    sigma = np.array([-1] * int(np.ceil(len(y_train) / 2)) + [1] * (len(y_train) - int(np.ceil(len(y_train) / 2))))\n",
    "    np.random.shuffle(sigma)\n",
    "    \n",
    "    log_reg = LogisticRegression(C=1/alpha, solver='liblinear', penalty='l2', random_state=seed)\n",
    "    log_reg.fit(X_train, y_train)\n",
    "    h = log_reg.decision_function(X_train)\n",
    "    margin = h * sigma\n",
    "\n",
    "    expected_val = np.average(margin, weights=sigma)\n",
    "    return expected_val"
   ]
  },
  {
   "cell_type": "code",
   "execution_count": 229,
   "metadata": {},
   "outputs": [],
   "source": [
    "stds = []\n",
    "rademacher = []\n",
    "for a in alpha:\n",
    "    seed = list(set([random.randint(1, 5000) for i in range(1000)]))\n",
    "    k = 1\n",
    "    expected = []\n",
    "    while k <= 100:\n",
    "        X_train, X_test, y_train, y_test = data_split(cancer, seed[k])\n",
    "        expected_val = experiment(X_train, y_train, seed[k], alpha=a)\n",
    "        expected.append(expected_val)\n",
    "        k += 1\n",
    "    expected_val_mean = np.sum(expected) / 100\n",
    "    rademacher.append(expected_val_mean)\n",
    "    stds.append(np.std(expected))"
   ]
  },
  {
   "cell_type": "code",
   "execution_count": 230,
   "metadata": {},
   "outputs": [
    {
     "data": {
      "text/plain": [
       "[372.63695802278164,\n",
       " 147.43366234432798,\n",
       " 54.70684945630186,\n",
       " 15.253656649025046,\n",
       " 2.133788925165023]"
      ]
     },
     "execution_count": 230,
     "metadata": {},
     "output_type": "execute_result"
    }
   ],
   "source": [
    "stds"
   ]
  },
  {
   "cell_type": "code",
   "execution_count": 231,
   "metadata": {},
   "outputs": [
    {
     "data": {
      "text/plain": [
       "[966.8567082684317,\n",
       " 211.5687239324625,\n",
       " -102.15891693351622,\n",
       " -152.74315733807086,\n",
       " -85.9172426460682]"
      ]
     },
     "execution_count": 231,
     "metadata": {},
     "output_type": "execute_result"
    }
   ],
   "source": [
    "rademacher"
   ]
  },
  {
   "cell_type": "code",
   "execution_count": 232,
   "metadata": {},
   "outputs": [
    {
     "data": {
      "image/png": "[encoded data removed]",
      "text/plain": [
       "<Figure size 432x288 with 1 Axes>"
      ]
     },
     "metadata": {
      "needs_background": "light"
     },
     "output_type": "display_data"
    }
   ],
   "source": [
    "# место для графиков\n",
    "plt.errorbar(alpha, rademacher, stds, fmt='-o', color='black', ecolor='lightgray', elinewidth=3, label='RC')\n",
    "plt.xlabel('коэффициент L2 регуляризации')\n",
    "plt.ylabel('Rademacher complexity')\n",
    "plt.legend()\n",
    "plt.show()"
   ]
  },
  {
   "cell_type": "markdown",
   "metadata": {},
   "source": [
    "При увеличении коэффициента регуляризации L2 alpha сложность по Радемахеру стремительно падает на малых значениях (от 0 до 1), а потом, на больших значениях (100), она снова начинает расти.   \n",
    "Стандартное отклонение сложности по Радемахеру при увеличении альфа только падает."
   ]
  }
 ],
 "metadata": {
  "kernelspec": {
   "display_name": "Python 3",
   "language": "python",
   "name": "python3"
  },
  "language_info": {
   "codemirror_mode": {
    "name": "ipython",
    "version": 3
   },
   "file_extension": ".py",
   "mimetype": "text/x-python",
   "name": "python",
   "nbconvert_exporter": "python",
   "pygments_lexer": "ipython3",
   "version": "3.7.1"
  }
 },
 "nbformat": 4,
 "nbformat_minor": 2
}
